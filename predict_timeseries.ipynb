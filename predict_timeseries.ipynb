{
 "cells": [
  {
   "cell_type": "code",
   "execution_count": 47,
   "metadata": {
    "collapsed": true
   },
   "outputs": [],
   "source": [
    "import pandas as pd\n",
    "import os\n",
    "from datetime import timedelta\n",
    "import numpy as np\n",
    "from sklearn import metrics\n",
    "\n",
    "%matplotlib inline"
   ]
  },
  {
   "cell_type": "code",
   "execution_count": 28,
   "metadata": {
    "collapsed": true
   },
   "outputs": [],
   "source": [
    "# list files in output (these are stations)\n",
    "url = 'data_output/'\n",
    "files = os.listdir(url)\n",
    "files = [i for i in files if 'csv' in i]"
   ]
  },
  {
   "cell_type": "code",
   "execution_count": 29,
   "metadata": {
    "collapsed": false
   },
   "outputs": [],
   "source": [
    "stations = pd.read_csv('data_clean/top_stations.csv')\n",
    "stations_list = stations.top_stations.tolist()\n",
    "files = [i for i in files if int(i.replace('.csv','')) in stations_list]"
   ]
  },
  {
   "cell_type": "code",
   "execution_count": 39,
   "metadata": {
    "collapsed": false
   },
   "outputs": [
    {
     "data": {
      "text/html": [
       "<div>\n",
       "<table border=\"1\" class=\"dataframe\">\n",
       "  <thead>\n",
       "    <tr style=\"text-align: right;\">\n",
       "      <th></th>\n",
       "      <th>mean_count</th>\n",
       "      <th>min_count</th>\n",
       "      <th>max_count</th>\n",
       "      <th>minutes_full</th>\n",
       "      <th>minutes_empty</th>\n",
       "    </tr>\n",
       "    <tr>\n",
       "      <th>date_time</th>\n",
       "      <th></th>\n",
       "      <th></th>\n",
       "      <th></th>\n",
       "      <th></th>\n",
       "      <th></th>\n",
       "    </tr>\n",
       "  </thead>\n",
       "  <tbody>\n",
       "    <tr>\n",
       "      <th>2015-05-06 17:30:00</th>\n",
       "      <td>1.259259</td>\n",
       "      <td>1</td>\n",
       "      <td>2</td>\n",
       "      <td>0.0</td>\n",
       "      <td>0.0</td>\n",
       "    </tr>\n",
       "    <tr>\n",
       "      <th>2015-05-06 18:00:00</th>\n",
       "      <td>2.000000</td>\n",
       "      <td>2</td>\n",
       "      <td>2</td>\n",
       "      <td>0.0</td>\n",
       "      <td>0.0</td>\n",
       "    </tr>\n",
       "    <tr>\n",
       "      <th>2015-05-06 18:30:00</th>\n",
       "      <td>2.000000</td>\n",
       "      <td>2</td>\n",
       "      <td>2</td>\n",
       "      <td>0.0</td>\n",
       "      <td>0.0</td>\n",
       "    </tr>\n",
       "    <tr>\n",
       "      <th>2015-05-06 19:00:00</th>\n",
       "      <td>1.166667</td>\n",
       "      <td>1</td>\n",
       "      <td>2</td>\n",
       "      <td>0.0</td>\n",
       "      <td>0.0</td>\n",
       "    </tr>\n",
       "    <tr>\n",
       "      <th>2015-05-06 19:30:00</th>\n",
       "      <td>1.066667</td>\n",
       "      <td>1</td>\n",
       "      <td>2</td>\n",
       "      <td>0.0</td>\n",
       "      <td>0.0</td>\n",
       "    </tr>\n",
       "  </tbody>\n",
       "</table>\n",
       "</div>"
      ],
      "text/plain": [
       "                     mean_count  min_count  max_count  minutes_full  \\\n",
       "date_time                                                             \n",
       "2015-05-06 17:30:00    1.259259          1          2           0.0   \n",
       "2015-05-06 18:00:00    2.000000          2          2           0.0   \n",
       "2015-05-06 18:30:00    2.000000          2          2           0.0   \n",
       "2015-05-06 19:00:00    1.166667          1          2           0.0   \n",
       "2015-05-06 19:30:00    1.066667          1          2           0.0   \n",
       "\n",
       "                     minutes_empty  \n",
       "date_time                           \n",
       "2015-05-06 17:30:00            0.0  \n",
       "2015-05-06 18:00:00            0.0  \n",
       "2015-05-06 18:30:00            0.0  \n",
       "2015-05-06 19:00:00            0.0  \n",
       "2015-05-06 19:30:00            0.0  "
      ]
     },
     "execution_count": 39,
     "metadata": {},
     "output_type": "execute_result"
    }
   ],
   "source": [
    "station_pred = 472\n",
    "data = pd.read_csv(url+str(station_pred)+'.csv', index_col='date_time', parse_dates=True)\n",
    "data.head()"
   ]
  },
  {
   "cell_type": "code",
   "execution_count": 42,
   "metadata": {
    "collapsed": false
   },
   "outputs": [],
   "source": [
    "# train test split\n",
    "train_75 = int(len(data) * .75)\n",
    "test_25 = int(len(data) - train_75)\n",
    "train = data.sort_index().head(train_75)\n",
    "test = data.sort_index().tail(test_25)"
   ]
  },
  {
   "cell_type": "code",
   "execution_count": 69,
   "metadata": {
    "collapsed": false
   },
   "outputs": [
    {
     "data": {
      "text/plain": [
       "5054"
      ]
     },
     "execution_count": 69,
     "metadata": {},
     "output_type": "execute_result"
    }
   ],
   "source": [
    "test_25"
   ]
  },
  {
   "cell_type": "code",
   "execution_count": 66,
   "metadata": {
    "collapsed": false
   },
   "outputs": [
    {
     "name": "stdout",
     "output_type": "stream",
     "text": [
      "0.961534177471\n"
     ]
    },
    {
     "data": {
      "image/png": "[encoded data removed]",
      "text/plain": [
       "<matplotlib.figure.Figure at 0x120312e50>"
      ]
     },
     "metadata": {},
     "output_type": "display_data"
    }
   ],
   "source": [
    "from statsmodels.graphics.tsaplots import plot_acf\n",
    "plot_acf(data.mean_count, lags=100)\n",
    "print data.mean_count.autocorr(lag=4) "
   ]
  },
  {
   "cell_type": "code",
   "execution_count": 102,
   "metadata": {
    "collapsed": false
   },
   "outputs": [],
   "source": [
    "import statsmodels.api as sm\n",
    "from sklearn.metrics import mean_absolute_error\n",
    "from statsmodels.tsa.arima_model import ARMA\n",
    "\n",
    "model = ARMA(train.mean_count, (4, 0)).fit()\n",
    "pred = model.predict(train_75, train_75+test_25-1)"
   ]
  },
  {
   "cell_type": "code",
   "execution_count": 128,
   "metadata": {
    "collapsed": false
   },
   "outputs": [
    {
     "data": {
      "text/html": [
       "<div>\n",
       "<table border=\"1\" class=\"dataframe\">\n",
       "  <thead>\n",
       "    <tr style=\"text-align: right;\">\n",
       "      <th></th>\n",
       "      <th>mean_count</th>\n",
       "      <th>pred</th>\n",
       "    </tr>\n",
       "    <tr>\n",
       "      <th>date_time</th>\n",
       "      <th></th>\n",
       "      <th></th>\n",
       "    </tr>\n",
       "  </thead>\n",
       "  <tbody>\n",
       "    <tr>\n",
       "      <th>2016-03-17 14:30:00</th>\n",
       "      <td>8.000000</td>\n",
       "      <td>7.968656</td>\n",
       "    </tr>\n",
       "    <tr>\n",
       "      <th>2016-03-17 15:00:00</th>\n",
       "      <td>8.000000</td>\n",
       "      <td>7.928921</td>\n",
       "    </tr>\n",
       "    <tr>\n",
       "      <th>2016-03-17 15:30:00</th>\n",
       "      <td>8.000000</td>\n",
       "      <td>7.888583</td>\n",
       "    </tr>\n",
       "    <tr>\n",
       "      <th>2016-03-17 16:00:00</th>\n",
       "      <td>8.866667</td>\n",
       "      <td>7.847719</td>\n",
       "    </tr>\n",
       "    <tr>\n",
       "      <th>2016-03-17 16:30:00</th>\n",
       "      <td>9.000000</td>\n",
       "      <td>7.806820</td>\n",
       "    </tr>\n",
       "  </tbody>\n",
       "</table>\n",
       "</div>"
      ],
      "text/plain": [
       "                     mean_count      pred\n",
       "date_time                                \n",
       "2016-03-17 14:30:00    8.000000  7.968656\n",
       "2016-03-17 15:00:00    8.000000  7.928921\n",
       "2016-03-17 15:30:00    8.000000  7.888583\n",
       "2016-03-17 16:00:00    8.866667  7.847719\n",
       "2016-03-17 16:30:00    9.000000  7.806820"
      ]
     },
     "execution_count": 128,
     "metadata": {},
     "output_type": "execute_result"
    }
   ],
   "source": [
    "y_test = test[['mean_count']]\n",
    "y_pred = pd.DataFrame(pred, columns=['pred'])\n",
    "\n",
    "output = pd.concat([y_test,y_pred], axis=1)\n",
    "output.head()"
   ]
  },
  {
   "cell_type": "code",
   "execution_count": 129,
   "metadata": {
    "collapsed": false
   },
   "outputs": [
    {
     "data": {
      "text/plain": [
       "3.9567372479600387"
      ]
     },
     "execution_count": 129,
     "metadata": {},
     "output_type": "execute_result"
    }
   ],
   "source": [
    "np.sqrt(metrics.mean_squared_error(y_test, y_pred))"
   ]
  },
  {
   "cell_type": "code",
   "execution_count": null,
   "metadata": {
    "collapsed": true
   },
   "outputs": [],
   "source": []
  }
 ],
 "metadata": {
  "kernelspec": {
   "display_name": "Python [Root]",
   "language": "python",
   "name": "Python [Root]"
  },
  "language_info": {
   "codemirror_mode": {
    "name": "ipython",
    "version": 2
   },
   "file_extension": ".py",
   "mimetype": "text/x-python",
   "name": "python",
   "nbconvert_exporter": "python",
   "pygments_lexer": "ipython2",
   "version": "2.7.11"
  }
 },
 "nbformat": 4,
 "nbformat_minor": 0
}
