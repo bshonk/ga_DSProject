{
 "cells": [
  {
   "cell_type": "code",
   "execution_count": 25,
   "metadata": {
    "collapsed": true
   },
   "outputs": [],
   "source": [
    "import pandas as pd\n",
    "from datetime import timedelta\n",
    "\n",
    "%matplotlib inline"
   ]
  },
  {
   "cell_type": "code",
   "execution_count": 26,
   "metadata": {
    "collapsed": false
   },
   "outputs": [],
   "source": [
    "# load a station\n",
    "station_id = '39.csv'\n",
    "url = 'data_output/'\n",
    "data = pd.read_csv(url+str(station_id), index_col='date_time', parse_dates=True)\n",
    "data['minutes_empty'] = (data.minutes_empty > 0).astype(int)\n"
   ]
  },
  {
   "cell_type": "code",
   "execution_count": 27,
   "metadata": {
    "collapsed": false
   },
   "outputs": [],
   "source": [
    "# mark the first positive observation in a series\n",
    "previous = 0\n",
    "list = []\n",
    "for i in data.minutes_empty:\n",
    "    current = i + previous * i\n",
    "    previous = i\n",
    "    list.append(current)"
   ]
  },
  {
   "cell_type": "code",
   "execution_count": 28,
   "metadata": {
    "collapsed": false
   },
   "outputs": [],
   "source": [
    "# mark the first positive ovservation in a series as 1 for y\n",
    "test = pd.DataFrame(list, index=data.index, columns=['y'])\n",
    "test['y'] = (test.y == 1).astype(int)\n",
    "data = pd.concat([data,test], axis=1)\n",
    "data = data[['y','mean_count']]"
   ]
  },
  {
   "cell_type": "code",
   "execution_count": 93,
   "metadata": {
    "collapsed": false
   },
   "outputs": [],
   "source": [
    "# self join data set offset on hours\n",
    "for i in range(4,20):\n",
    "    feature = pd.read_csv(url+str(station_id), index_col='date_time', parse_dates=True)\n",
    "    feature = feature[['mean_count']]\n",
    "    feature.index = feature.index + timedelta(minutes=(i*30))\n",
    "    columns = str(i*30)+'_'+ feature.columns\n",
    "    feature.columns = columns\n",
    "    data = pd.concat([data,feature], axis=1, join='inner')\n",
    "\n"
   ]
  },
  {
   "cell_type": "code",
   "execution_count": 21,
   "metadata": {
    "collapsed": false
   },
   "outputs": [
    {
     "name": "stderr",
     "output_type": "stream",
     "text": [
      "/Users/bshonk/anaconda/lib/python2.7/site-packages/ipykernel/__main__.py:6: SettingWithCopyWarning: \n",
      "A value is trying to be set on a copy of a slice from a DataFrame.\n",
      "Try using .loc[row_indexer,col_indexer] = value instead\n",
      "\n",
      "See the caveats in the documentation: http://pandas.pydata.org/pandas-docs/stable/indexing.html#indexing-view-versus-copy\n"
     ]
    }
   ],
   "source": [
    "# build a data frame of each positive event and the proceeding 6 hours\n",
    "events = data[data.y == 1].index\n",
    "result = pd.DataFrame()\n",
    "for index, i in enumerate(events):\n",
    "    iteration = index\n",
    "    set = data[(data.index <= events[iteration]) & (data.index > events[iteration] - timedelta(minutes=(60*6))) ]\n",
    "    set['rep'] = iteration\n",
    "    result = pd.concat([result, set], axis=0)\n",
    "    \n",
    "result['events'] = 'event'"
   ]
  },
  {
   "cell_type": "code",
   "execution_count": null,
   "metadata": {
    "collapsed": false
   },
   "outputs": [],
   "source": []
  },
  {
   "cell_type": "code",
   "execution_count": 22,
   "metadata": {
    "collapsed": false
   },
   "outputs": [
    {
     "name": "stderr",
     "output_type": "stream",
     "text": [
      "/Users/bshonk/anaconda/lib/python2.7/site-packages/ipykernel/__main__.py:9: SettingWithCopyWarning: \n",
      "A value is trying to be set on a copy of a slice from a DataFrame.\n",
      "Try using .loc[row_indexer,col_indexer] = value instead\n",
      "\n",
      "See the caveats in the documentation: http://pandas.pydata.org/pandas-docs/stable/indexing.html#indexing-view-versus-copy\n"
     ]
    }
   ],
   "source": [
    "# build a data frame of a random sample of observations and proceeding 6 hours\n",
    "import random\n",
    "events = data[data.y != 1].index\n",
    "events = random.sample(events,500)\n",
    "result_sample = pd.DataFrame()\n",
    "\n",
    "for index, i in enumerate(events):\n",
    "    iteration = index\n",
    "    set = data[(data.index <= events[iteration]) & (data.index > events[iteration] - timedelta(minutes=(60*6))) ]\n",
    "    set['rep'] = iteration\n",
    "    result_sample = pd.concat([result_sample, set], axis=0)\n",
    "result_sample['events'] = 'not event'"
   ]
  },
  {
   "cell_type": "code",
   "execution_count": 23,
   "metadata": {
    "collapsed": false
   },
   "outputs": [],
   "source": [
    "final = pd.concat([result, result_sample], axis=0)"
   ]
  },
  {
   "cell_type": "code",
   "execution_count": 24,
   "metadata": {
    "collapsed": false
   },
   "outputs": [],
   "source": [
    "final.to_csv('data_decisiontree/timeseries_test.csv', index=True)"
   ]
  },
  {
   "cell_type": "code",
   "execution_count": 95,
   "metadata": {
    "collapsed": false
   },
   "outputs": [],
   "source": [
    "# dummy hours\n",
    "hours = data.index.hour\n",
    "hours = pd.DataFrame(hours, index=data.index, columns=['hour'])\n",
    "dummies = pd.get_dummies(hours.hour, prefix='hour')\n",
    "dummies = dummies[dummies.columns[1:]]\n",
    "data = pd.concat([data, dummies], axis=1)"
   ]
  },
  {
   "cell_type": "code",
   "execution_count": 143,
   "metadata": {
    "collapsed": false
   },
   "outputs": [],
   "source": [
    "features = [i for i in X.columns if 'hour' in i]"
   ]
  },
  {
   "cell_type": "code",
   "execution_count": 144,
   "metadata": {
    "collapsed": false
   },
   "outputs": [],
   "source": [
    "X = data[features]\n",
    "y = data.y"
   ]
  },
  {
   "cell_type": "code",
   "execution_count": 145,
   "metadata": {
    "collapsed": false
   },
   "outputs": [],
   "source": [
    "from sklearn.cross_validation import train_test_split\n",
    "from sklearn.tree import DecisionTreeClassifier\n",
    "from sklearn.cross_validation import cross_val_score\n",
    "from sklearn import metrics\n",
    "from sklearn.ensemble import RandomForestClassifier\n"
   ]
  },
  {
   "cell_type": "code",
   "execution_count": 151,
   "metadata": {
    "collapsed": false
   },
   "outputs": [],
   "source": [
    "X_train, X_test, y_train, y_test = train_test_split(X, y, random_state=20)"
   ]
  },
  {
   "cell_type": "code",
   "execution_count": 154,
   "metadata": {
    "collapsed": false
   },
   "outputs": [],
   "source": [
    "# tune n_estimators then max_features\n",
    "rfclass = RandomForestClassifier(n_estimators=150, max_features=3, random_state=3)\n",
    "rfclass.fit(X_train, y_train)\n",
    "y_pred = rfclass.predict(X_test)"
   ]
  },
  {
   "cell_type": "code",
   "execution_count": 155,
   "metadata": {
    "collapsed": false
   },
   "outputs": [
    {
     "data": {
      "text/plain": [
       "array([[5240,    0],\n",
       "       [  26,    0]])"
      ]
     },
     "execution_count": 155,
     "metadata": {},
     "output_type": "execute_result"
    }
   ],
   "source": [
    "confusion = metrics.confusion_matrix(y_test, y_pred)\n",
    "confusion"
   ]
  },
  {
   "cell_type": "code",
   "execution_count": 156,
   "metadata": {
    "collapsed": false
   },
   "outputs": [
    {
     "data": {
      "text/html": [
       "<div>\n",
       "<table border=\"1\" class=\"dataframe\">\n",
       "  <thead>\n",
       "    <tr style=\"text-align: right;\">\n",
       "      <th></th>\n",
       "      <th>feature</th>\n",
       "      <th>importance</th>\n",
       "    </tr>\n",
       "  </thead>\n",
       "  <tbody>\n",
       "    <tr>\n",
       "      <th>16</th>\n",
       "      <td>hour_17</td>\n",
       "      <td>0.442535</td>\n",
       "    </tr>\n",
       "    <tr>\n",
       "      <th>22</th>\n",
       "      <td>hour_23</td>\n",
       "      <td>0.169384</td>\n",
       "    </tr>\n",
       "    <tr>\n",
       "      <th>18</th>\n",
       "      <td>hour_19</td>\n",
       "      <td>0.132790</td>\n",
       "    </tr>\n",
       "    <tr>\n",
       "      <th>20</th>\n",
       "      <td>hour_21</td>\n",
       "      <td>0.022402</td>\n",
       "    </tr>\n",
       "    <tr>\n",
       "      <th>21</th>\n",
       "      <td>hour_22</td>\n",
       "      <td>0.019177</td>\n",
       "    </tr>\n",
       "    <tr>\n",
       "      <th>19</th>\n",
       "      <td>hour_20</td>\n",
       "      <td>0.018597</td>\n",
       "    </tr>\n",
       "    <tr>\n",
       "      <th>15</th>\n",
       "      <td>hour_16</td>\n",
       "      <td>0.018341</td>\n",
       "    </tr>\n",
       "    <tr>\n",
       "      <th>2</th>\n",
       "      <td>hour_3</td>\n",
       "      <td>0.015715</td>\n",
       "    </tr>\n",
       "    <tr>\n",
       "      <th>12</th>\n",
       "      <td>hour_13</td>\n",
       "      <td>0.015680</td>\n",
       "    </tr>\n",
       "    <tr>\n",
       "      <th>4</th>\n",
       "      <td>hour_5</td>\n",
       "      <td>0.014855</td>\n",
       "    </tr>\n",
       "  </tbody>\n",
       "</table>\n",
       "</div>"
      ],
      "text/plain": [
       "    feature  importance\n",
       "16  hour_17    0.442535\n",
       "22  hour_23    0.169384\n",
       "18  hour_19    0.132790\n",
       "20  hour_21    0.022402\n",
       "21  hour_22    0.019177\n",
       "19  hour_20    0.018597\n",
       "15  hour_16    0.018341\n",
       "2    hour_3    0.015715\n",
       "12  hour_13    0.015680\n",
       "4    hour_5    0.014855"
      ]
     },
     "execution_count": 156,
     "metadata": {},
     "output_type": "execute_result"
    }
   ],
   "source": [
    "feature_cols = X.columns\n",
    "feature_importance = pd.DataFrame({'feature':feature_cols, 'importance':rfclass.feature_importances_})\n",
    "feature_importance.sort_values(by='importance',ascending=False ).head(10)"
   ]
  },
  {
   "cell_type": "code",
   "execution_count": null,
   "metadata": {
    "collapsed": true
   },
   "outputs": [],
   "source": []
  }
 ],
 "metadata": {
  "anaconda-cloud": {},
  "kernelspec": {
   "display_name": "Python [Root]",
   "language": "python",
   "name": "Python [Root]"
  },
  "language_info": {
   "codemirror_mode": {
    "name": "ipython",
    "version": 2
   },
   "file_extension": ".py",
   "mimetype": "text/x-python",
   "name": "python",
   "nbconvert_exporter": "python",
   "pygments_lexer": "ipython2",
   "version": "2.7.11"
  }
 },
 "nbformat": 4,
 "nbformat_minor": 0
}
