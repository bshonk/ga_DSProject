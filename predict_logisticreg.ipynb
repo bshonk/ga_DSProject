{
 "cells": [
  {
   "cell_type": "markdown",
   "metadata": {},
   "source": [
    "### predict"
   ]
  },
  {
   "cell_type": "code",
   "execution_count": 107,
   "metadata": {
    "collapsed": true
   },
   "outputs": [],
   "source": [
    "import pandas as pd\n",
    "import os\n",
    "from datetime import timedelta\n",
    "import numpy as np\n",
    "from sklearn import metrics\n"
   ]
  },
  {
   "cell_type": "code",
   "execution_count": 2,
   "metadata": {
    "collapsed": false
   },
   "outputs": [],
   "source": [
    "# list files in output (these are stations)\n",
    "files = os.listdir('data_output/')\n",
    "files = [i for i in files if 'csv' in i]\n",
    "url = 'data_output/'"
   ]
  },
  {
   "cell_type": "code",
   "execution_count": 3,
   "metadata": {
    "collapsed": false
   },
   "outputs": [],
   "source": [
    "dtypes = {'date_time': 'str', 'recorded_minutes':'float', 'mean_count':'float', \n",
    "          'median_count':'float', 'std_count':'float', 'min_count':'float', \n",
    "          'max_count':'float', 'minutes_full':'float', 'minutes_empty':'float'}\n",
    "parse_dates = ['date_time']\n",
    "\n",
    "# read in data\n",
    "station_138 = pd.read_csv(url + '138.csv', header=0, index_col=0, dtype=dtypes, parse_dates=parse_dates)\n",
    "station_23 = pd.read_csv(url + '23.csv', header=0, index_col=0, dtype=dtypes, parse_dates=parse_dates)\n",
    "station_236 = pd.read_csv(url + '236.csv', header=0, index_col=0, dtype=dtypes, parse_dates=parse_dates)"
   ]
  },
  {
   "cell_type": "code",
   "execution_count": 4,
   "metadata": {
    "collapsed": false
   },
   "outputs": [],
   "source": [
    "center = station_138\n",
    "y = center.minutes_empty"
   ]
  },
  {
   "cell_type": "code",
   "execution_count": 5,
   "metadata": {
    "collapsed": false
   },
   "outputs": [],
   "source": [
    "# offset 3 hours\n",
    "offset_hours = 3\n",
    "station_23.index = station_23.index - pd.DateOffset(hours=offset_hours)\n",
    "station_23.columns = ['23_' + str(offset_hours) +'hours_'+ i for i in station_23.columns]\n",
    "\n",
    "station_236.index = station_236.index - pd.DateOffset(hours=offset_hours)\n",
    "station_236.columns = ['236_' + str(offset_hours) +'hours_'+ i for i in station_236.columns]"
   ]
  },
  {
   "cell_type": "code",
   "execution_count": 6,
   "metadata": {
    "collapsed": false
   },
   "outputs": [],
   "source": [
    "# data for modeling\n",
    "data = pd.concat([center, station_23, station_236], axis=1, join='inner')"
   ]
  },
  {
   "cell_type": "code",
   "execution_count": 112,
   "metadata": {
    "collapsed": false
   },
   "outputs": [
    {
     "data": {
      "text/html": [
       "<div>\n",
       "<table border=\"1\" class=\"dataframe\">\n",
       "  <thead>\n",
       "    <tr style=\"text-align: right;\">\n",
       "      <th></th>\n",
       "      <th>recorded_minutes</th>\n",
       "      <th>mean_count</th>\n",
       "      <th>median_count</th>\n",
       "      <th>std_count</th>\n",
       "      <th>min_count</th>\n",
       "      <th>max_count</th>\n",
       "      <th>minutes_full</th>\n",
       "      <th>minutes_empty</th>\n",
       "      <th>23_3hours_recorded_minutes</th>\n",
       "      <th>23_3hours_mean_count</th>\n",
       "      <th>...</th>\n",
       "      <th>236_3hours_recorded_minutes</th>\n",
       "      <th>236_3hours_mean_count</th>\n",
       "      <th>236_3hours_median_count</th>\n",
       "      <th>236_3hours_std_count</th>\n",
       "      <th>236_3hours_min_count</th>\n",
       "      <th>236_3hours_max_count</th>\n",
       "      <th>236_3hours_minutes_full</th>\n",
       "      <th>236_3hours_minutes_empty</th>\n",
       "      <th>y_empty</th>\n",
       "      <th>y_full</th>\n",
       "    </tr>\n",
       "    <tr>\n",
       "      <th>date_time</th>\n",
       "      <th></th>\n",
       "      <th></th>\n",
       "      <th></th>\n",
       "      <th></th>\n",
       "      <th></th>\n",
       "      <th></th>\n",
       "      <th></th>\n",
       "      <th></th>\n",
       "      <th></th>\n",
       "      <th></th>\n",
       "      <th></th>\n",
       "      <th></th>\n",
       "      <th></th>\n",
       "      <th></th>\n",
       "      <th></th>\n",
       "      <th></th>\n",
       "      <th></th>\n",
       "      <th></th>\n",
       "      <th></th>\n",
       "      <th></th>\n",
       "      <th></th>\n",
       "    </tr>\n",
       "  </thead>\n",
       "  <tbody>\n",
       "    <tr>\n",
       "      <th>2013-08-20 15:00:00</th>\n",
       "      <td>30.0</td>\n",
       "      <td>2.066667</td>\n",
       "      <td>2.0</td>\n",
       "      <td>0.365148</td>\n",
       "      <td>2.0</td>\n",
       "      <td>4.0</td>\n",
       "      <td>0.0</td>\n",
       "      <td>0.0</td>\n",
       "      <td>30.0</td>\n",
       "      <td>10.9</td>\n",
       "      <td>...</td>\n",
       "      <td>30.0</td>\n",
       "      <td>1.0</td>\n",
       "      <td>1.0</td>\n",
       "      <td>0.0</td>\n",
       "      <td>1.0</td>\n",
       "      <td>1.0</td>\n",
       "      <td>0.0</td>\n",
       "      <td>0.0</td>\n",
       "      <td>0</td>\n",
       "      <td>0</td>\n",
       "    </tr>\n",
       "    <tr>\n",
       "      <th>2013-08-20 15:30:00</th>\n",
       "      <td>30.0</td>\n",
       "      <td>2.000000</td>\n",
       "      <td>2.0</td>\n",
       "      <td>0.000000</td>\n",
       "      <td>2.0</td>\n",
       "      <td>2.0</td>\n",
       "      <td>0.0</td>\n",
       "      <td>0.0</td>\n",
       "      <td>30.0</td>\n",
       "      <td>11.0</td>\n",
       "      <td>...</td>\n",
       "      <td>30.0</td>\n",
       "      <td>1.0</td>\n",
       "      <td>1.0</td>\n",
       "      <td>0.0</td>\n",
       "      <td>1.0</td>\n",
       "      <td>1.0</td>\n",
       "      <td>0.0</td>\n",
       "      <td>0.0</td>\n",
       "      <td>0</td>\n",
       "      <td>0</td>\n",
       "    </tr>\n",
       "  </tbody>\n",
       "</table>\n",
       "<p>2 rows × 26 columns</p>\n",
       "</div>"
      ],
      "text/plain": [
       "                     recorded_minutes  mean_count  median_count  std_count  \\\n",
       "date_time                                                                    \n",
       "2013-08-20 15:00:00              30.0    2.066667           2.0   0.365148   \n",
       "2013-08-20 15:30:00              30.0    2.000000           2.0   0.000000   \n",
       "\n",
       "                     min_count  max_count  minutes_full  minutes_empty  \\\n",
       "date_time                                                                \n",
       "2013-08-20 15:00:00        2.0        4.0           0.0            0.0   \n",
       "2013-08-20 15:30:00        2.0        2.0           0.0            0.0   \n",
       "\n",
       "                     23_3hours_recorded_minutes  23_3hours_mean_count   ...    \\\n",
       "date_time                                                               ...     \n",
       "2013-08-20 15:00:00                        30.0                  10.9   ...     \n",
       "2013-08-20 15:30:00                        30.0                  11.0   ...     \n",
       "\n",
       "                     236_3hours_recorded_minutes  236_3hours_mean_count  \\\n",
       "date_time                                                                 \n",
       "2013-08-20 15:00:00                         30.0                    1.0   \n",
       "2013-08-20 15:30:00                         30.0                    1.0   \n",
       "\n",
       "                     236_3hours_median_count  236_3hours_std_count  \\\n",
       "date_time                                                            \n",
       "2013-08-20 15:00:00                      1.0                   0.0   \n",
       "2013-08-20 15:30:00                      1.0                   0.0   \n",
       "\n",
       "                     236_3hours_min_count  236_3hours_max_count  \\\n",
       "date_time                                                         \n",
       "2013-08-20 15:00:00                   1.0                   1.0   \n",
       "2013-08-20 15:30:00                   1.0                   1.0   \n",
       "\n",
       "                     236_3hours_minutes_full  236_3hours_minutes_empty  \\\n",
       "date_time                                                                \n",
       "2013-08-20 15:00:00                      0.0                       0.0   \n",
       "2013-08-20 15:30:00                      0.0                       0.0   \n",
       "\n",
       "                     y_empty  y_full  \n",
       "date_time                             \n",
       "2013-08-20 15:00:00        0       0  \n",
       "2013-08-20 15:30:00        0       0  \n",
       "\n",
       "[2 rows x 26 columns]"
      ]
     },
     "execution_count": 112,
     "metadata": {},
     "output_type": "execute_result"
    }
   ],
   "source": [
    "data.head(2)\n"
   ]
  },
  {
   "cell_type": "code",
   "execution_count": 116,
   "metadata": {
    "collapsed": false
   },
   "outputs": [],
   "source": [
    "# predict empty stations\n",
    "data['y_empty'] = ( data.minutes_empty == 30).astype(int)\n",
    "data['y_full'] = ( data.max_count > 13).astype(int)"
   ]
  },
  {
   "cell_type": "code",
   "execution_count": 122,
   "metadata": {
    "collapsed": false
   },
   "outputs": [
    {
     "data": {
      "text/plain": [
       "6418"
      ]
     },
     "execution_count": 122,
     "metadata": {},
     "output_type": "execute_result"
    }
   ],
   "source": [
    "y.sum()"
   ]
  },
  {
   "cell_type": "code",
   "execution_count": 117,
   "metadata": {
    "collapsed": false
   },
   "outputs": [],
   "source": [
    "feature_cols = [i for i in data.columns[8:25] if 'recorded' not in i ]\n",
    "y = data.y_full\n",
    "X = data[feature_cols]"
   ]
  },
  {
   "cell_type": "code",
   "execution_count": 118,
   "metadata": {
    "collapsed": false
   },
   "outputs": [
    {
     "data": {
      "text/plain": [
       "LogisticRegression(C=1.0, class_weight=None, dual=False, fit_intercept=True,\n",
       "          intercept_scaling=1, max_iter=100, multi_class='ovr', n_jobs=1,\n",
       "          penalty='l2', random_state=None, solver='liblinear', tol=0.0001,\n",
       "          verbose=0, warm_start=False)"
      ]
     },
     "execution_count": 118,
     "metadata": {},
     "output_type": "execute_result"
    }
   ],
   "source": [
    "from sklearn.linear_model import LogisticRegression\n",
    "logreg = LogisticRegression()\n",
    "\n",
    "logreg.fit(X, y)"
   ]
  },
  {
   "cell_type": "code",
   "execution_count": 119,
   "metadata": {
    "collapsed": true
   },
   "outputs": [],
   "source": [
    "y_prob = logreg.predict_proba(X)\n",
    "y_pred = logreg.predict(X)"
   ]
  },
  {
   "cell_type": "code",
   "execution_count": 123,
   "metadata": {
    "collapsed": false
   },
   "outputs": [
    {
     "name": "stdout",
     "output_type": "stream",
     "text": [
      "0.872047361812\n"
     ]
    }
   ],
   "source": [
    "from sklearn import metrics\n",
    "print metrics.accuracy_score(y, y_pred)"
   ]
  },
  {
   "cell_type": "code",
   "execution_count": 124,
   "metadata": {
    "collapsed": false,
    "scrolled": true
   },
   "outputs": [
    {
     "data": {
      "text/plain": [
       "0.87206729523391868"
      ]
     },
     "execution_count": 124,
     "metadata": {},
     "output_type": "execute_result"
    }
   ],
   "source": [
    "y.value_counts()[0] / (len(y) * 1.0)"
   ]
  },
  {
   "cell_type": "code",
   "execution_count": 126,
   "metadata": {
    "collapsed": false
   },
   "outputs": [
    {
     "name": "stdout",
     "output_type": "stream",
     "text": [
      "6418\n",
      "1\n"
     ]
    }
   ],
   "source": [
    "print sum(y)\n",
    "print sum(y_pred)"
   ]
  },
  {
   "cell_type": "code",
   "execution_count": 127,
   "metadata": {
    "collapsed": false
   },
   "outputs": [
    {
     "data": {
      "text/plain": [
       "50167"
      ]
     },
     "execution_count": 127,
     "metadata": {},
     "output_type": "execute_result"
    }
   ],
   "source": [
    "len(data)"
   ]
  },
  {
   "cell_type": "code",
   "execution_count": 128,
   "metadata": {
    "collapsed": false
   },
   "outputs": [
    {
     "data": {
      "text/plain": [
       "0.1279327047660813"
      ]
     },
     "execution_count": 128,
     "metadata": {},
     "output_type": "execute_result"
    }
   ],
   "source": [
    "data.y_full.sum() / (len(data) *1.0)"
   ]
  },
  {
   "cell_type": "code",
   "execution_count": 129,
   "metadata": {
    "collapsed": false
   },
   "outputs": [],
   "source": [
    "pred = pd.DataFrame( zip(y,y_pred,y_prob[:,0]),columns=['y','y_pred','y_prob'] )"
   ]
  },
  {
   "cell_type": "code",
   "execution_count": 130,
   "metadata": {
    "collapsed": false
   },
   "outputs": [
    {
     "data": {
      "text/plain": [
       "<matplotlib.axes._subplots.AxesSubplot at 0x117cfd290>"
      ]
     },
     "execution_count": 130,
     "metadata": {},
     "output_type": "execute_result"
    },
    {
     "data": {
      "image/png": "[encoded data removed]",
      "text/plain": [
       "<matplotlib.figure.Figure at 0x11ab11710>"
      ]
     },
     "metadata": {},
     "output_type": "display_data"
    }
   ],
   "source": [
    "import matplotlib.pyplot as plt\n",
    "%matplotlib inline\n",
    "\n",
    "pred.boxplot(column='y_prob', by='y')\n",
    "\n",
    "\n"
   ]
  },
  {
   "cell_type": "code",
   "execution_count": 131,
   "metadata": {
    "collapsed": false
   },
   "outputs": [
    {
     "data": {
      "text/plain": [
       "[<matplotlib.lines.Line2D at 0x11bd0e8d0>]"
      ]
     },
     "execution_count": 131,
     "metadata": {},
     "output_type": "execute_result"
    },
    {
     "data": {
      "image/png": "[encoded data removed]",
      "text/plain": [
       "<matplotlib.figure.Figure at 0x11ab1f810>"
      ]
     },
     "metadata": {},
     "output_type": "display_data"
    }
   ],
   "source": [
    "fpr, tpr, thresholds = metrics.roc_curve(y, y_prob[:,1])\n",
    "plt.plot(fpr, tpr)"
   ]
  },
  {
   "cell_type": "code",
   "execution_count": null,
   "metadata": {
    "collapsed": true
   },
   "outputs": [],
   "source": []
  }
 ],
 "metadata": {
  "kernelspec": {
   "display_name": "Python [Root]",
   "language": "python",
   "name": "Python [Root]"
  },
  "language_info": {
   "codemirror_mode": {
    "name": "ipython",
    "version": 2
   },
   "file_extension": ".py",
   "mimetype": "text/x-python",
   "name": "python",
   "nbconvert_exporter": "python",
   "pygments_lexer": "ipython2",
   "version": "2.7.11"
  }
 },
 "nbformat": 4,
 "nbformat_minor": 0
}
