{
 "cells": [
  {
   "cell_type": "markdown",
   "metadata": {
    "collapsed": true
   },
   "source": [
    "# ETL pipeline for sample bike data\n",
    "format trip data as occupancy time at each station"
   ]
  },
  {
   "cell_type": "markdown",
   "metadata": {},
   "source": [
    "## Imports\n"
   ]
  },
  {
   "cell_type": "code",
   "execution_count": 1,
   "metadata": {
    "collapsed": true
   },
   "outputs": [],
   "source": [
    "import pandas as pd\n",
    "from datetime import datetime\n",
    "from datetime import timedelta\n",
    "import numpy as np"
   ]
  },
  {
   "cell_type": "markdown",
   "metadata": {},
   "source": [
    "### Connect to file"
   ]
  },
  {
   "cell_type": "code",
   "execution_count": 2,
   "metadata": {
    "collapsed": false,
    "scrolled": true
   },
   "outputs": [
    {
     "name": "stderr",
     "output_type": "stream",
     "text": [
      "/Users/bshonk/anaconda/lib/python2.7/site-packages/IPython/core/interactiveshell.py:2723: DtypeWarning: Columns (5) have mixed types. Specify dtype option on import or set low_memory=False.\n",
      "  interactivity=interactivity, compiler=compiler, result=result)\n"
     ]
    }
   ],
   "source": [
    "file_name = 'data_clean/all_trips.csv'\n",
    "trips = pd.read_csv(file_name, sep=',', header=0)"
   ]
  },
  {
   "cell_type": "code",
   "execution_count": 3,
   "metadata": {
    "collapsed": false
   },
   "outputs": [
    {
     "data": {
      "text/html": [
       "<div>\n",
       "<table border=\"1\" class=\"dataframe\">\n",
       "  <thead>\n",
       "    <tr style=\"text-align: right;\">\n",
       "      <th></th>\n",
       "      <th>bikeid</th>\n",
       "      <th>birthday</th>\n",
       "      <th>birthyear</th>\n",
       "      <th>from_station_id</th>\n",
       "      <th>from_station_name</th>\n",
       "      <th>gender</th>\n",
       "      <th>starttime</th>\n",
       "      <th>stoptime</th>\n",
       "      <th>to_station_id</th>\n",
       "      <th>to_station_name</th>\n",
       "      <th>trip_id</th>\n",
       "      <th>tripduration</th>\n",
       "      <th>usertype</th>\n",
       "    </tr>\n",
       "  </thead>\n",
       "  <tbody>\n",
       "    <tr>\n",
       "      <th>7867596</th>\n",
       "      <td>2048</td>\n",
       "      <td>NaN</td>\n",
       "      <td>1976.0</td>\n",
       "      <td>125</td>\n",
       "      <td>Rush St &amp; Hubbard St</td>\n",
       "      <td>Female</td>\n",
       "      <td>1/1/2016 0:16</td>\n",
       "      <td>1/1/2016 0:24</td>\n",
       "      <td>133</td>\n",
       "      <td>Kingsbury St &amp; Kinzie St</td>\n",
       "      <td>8547217</td>\n",
       "      <td>484</td>\n",
       "      <td>Subscriber</td>\n",
       "    </tr>\n",
       "    <tr>\n",
       "      <th>7867597</th>\n",
       "      <td>1530</td>\n",
       "      <td>NaN</td>\n",
       "      <td>1982.0</td>\n",
       "      <td>125</td>\n",
       "      <td>Rush St &amp; Hubbard St</td>\n",
       "      <td>Male</td>\n",
       "      <td>1/1/2016 0:16</td>\n",
       "      <td>1/1/2016 0:24</td>\n",
       "      <td>133</td>\n",
       "      <td>Kingsbury St &amp; Kinzie St</td>\n",
       "      <td>8547216</td>\n",
       "      <td>512</td>\n",
       "      <td>Subscriber</td>\n",
       "    </tr>\n",
       "    <tr>\n",
       "      <th>7867598</th>\n",
       "      <td>1190</td>\n",
       "      <td>NaN</td>\n",
       "      <td>1994.0</td>\n",
       "      <td>307</td>\n",
       "      <td>Southport Ave &amp; Clybourn Ave</td>\n",
       "      <td>Male</td>\n",
       "      <td>1/1/2016 0:15</td>\n",
       "      <td>1/1/2016 0:27</td>\n",
       "      <td>213</td>\n",
       "      <td>Leavitt St &amp; North Ave</td>\n",
       "      <td>8547215</td>\n",
       "      <td>744</td>\n",
       "      <td>Subscriber</td>\n",
       "    </tr>\n",
       "    <tr>\n",
       "      <th>7867599</th>\n",
       "      <td>4339</td>\n",
       "      <td>NaN</td>\n",
       "      <td>1981.0</td>\n",
       "      <td>190</td>\n",
       "      <td>Southport Ave &amp; Wrightwood Ave</td>\n",
       "      <td>Female</td>\n",
       "      <td>1/1/2016 0:14</td>\n",
       "      <td>1/1/2016 0:25</td>\n",
       "      <td>220</td>\n",
       "      <td>Hampden Ct &amp; Diversey Pkwy</td>\n",
       "      <td>8547214</td>\n",
       "      <td>615</td>\n",
       "      <td>Subscriber</td>\n",
       "    </tr>\n",
       "    <tr>\n",
       "      <th>7867600</th>\n",
       "      <td>1094</td>\n",
       "      <td>NaN</td>\n",
       "      <td>1965.0</td>\n",
       "      <td>419</td>\n",
       "      <td>Lake Park Ave &amp; 53rd St</td>\n",
       "      <td>Male</td>\n",
       "      <td>1/1/2016 0:07</td>\n",
       "      <td>1/1/2016 0:16</td>\n",
       "      <td>413</td>\n",
       "      <td>Woodlawn Ave &amp; Lake Park Ave</td>\n",
       "      <td>8547211</td>\n",
       "      <td>508</td>\n",
       "      <td>Subscriber</td>\n",
       "    </tr>\n",
       "  </tbody>\n",
       "</table>\n",
       "</div>"
      ],
      "text/plain": [
       "         bikeid  birthday  birthyear  from_station_id  \\\n",
       "7867596    2048       NaN     1976.0              125   \n",
       "7867597    1530       NaN     1982.0              125   \n",
       "7867598    1190       NaN     1994.0              307   \n",
       "7867599    4339       NaN     1981.0              190   \n",
       "7867600    1094       NaN     1965.0              419   \n",
       "\n",
       "                      from_station_name  gender      starttime       stoptime  \\\n",
       "7867596            Rush St & Hubbard St  Female  1/1/2016 0:16  1/1/2016 0:24   \n",
       "7867597            Rush St & Hubbard St    Male  1/1/2016 0:16  1/1/2016 0:24   \n",
       "7867598    Southport Ave & Clybourn Ave    Male  1/1/2016 0:15  1/1/2016 0:27   \n",
       "7867599  Southport Ave & Wrightwood Ave  Female  1/1/2016 0:14  1/1/2016 0:25   \n",
       "7867600         Lake Park Ave & 53rd St    Male  1/1/2016 0:07  1/1/2016 0:16   \n",
       "\n",
       "         to_station_id               to_station_name  trip_id  tripduration  \\\n",
       "7867596            133      Kingsbury St & Kinzie St  8547217           484   \n",
       "7867597            133      Kingsbury St & Kinzie St  8547216           512   \n",
       "7867598            213        Leavitt St & North Ave  8547215           744   \n",
       "7867599            220    Hampden Ct & Diversey Pkwy  8547214           615   \n",
       "7867600            413  Woodlawn Ave & Lake Park Ave  8547211           508   \n",
       "\n",
       "           usertype  \n",
       "7867596  Subscriber  \n",
       "7867597  Subscriber  \n",
       "7867598  Subscriber  \n",
       "7867599  Subscriber  \n",
       "7867600  Subscriber  "
      ]
     },
     "execution_count": 3,
     "metadata": {},
     "output_type": "execute_result"
    }
   ],
   "source": [
    "trips.tail()"
   ]
  },
  {
   "cell_type": "code",
   "execution_count": 4,
   "metadata": {
    "collapsed": false
   },
   "outputs": [],
   "source": [
    "# make all columns lowercase and replace spaces with underscores\n",
    "trips.columns = [i.lower().replace(' ', '_') for i in trips.columns]\n",
    "\n",
    "# drop unnecessary columns\n",
    "trips = trips[[u'bikeid', u'from_station_id', u'starttime', u'stoptime', u'to_station_id', u'trip_id']]"
   ]
  },
  {
   "cell_type": "markdown",
   "metadata": {},
   "source": [
    "## Begin ETL\n",
    "The ETL process expects a Data Frame with the following columns:  \n",
    " ['Bikeid','From Station Name', 'Starttime', 'Stoptime', 'To Station Name', 'Trip Id']"
   ]
  },
  {
   "cell_type": "markdown",
   "metadata": {},
   "source": [
    "####  01 - Rank trips"
   ]
  },
  {
   "cell_type": "code",
   "execution_count": 5,
   "metadata": {
    "collapsed": false
   },
   "outputs": [],
   "source": [
    "# for each bike, rank (order) each trip by its trip id\n",
    "trips['rank'] = trips.groupby('bikeid')['trip_id'].rank()\n",
    "trips['rank_offset'] = trips.groupby('bikeid')['trip_id'].rank() -1"
   ]
  },
  {
   "cell_type": "markdown",
   "metadata": {},
   "source": [
    "#### 02 - split each trip into a arrival and departure"
   ]
  },
  {
   "cell_type": "code",
   "execution_count": 6,
   "metadata": {
    "collapsed": false
   },
   "outputs": [],
   "source": [
    "# create a table for arrivals\n",
    "arrivals = trips[['stoptime','bikeid','to_station_id','rank']]\n",
    "arrivals.columns = ['arrival_time','bikeid','arrival_station_id','rank']\n",
    "\n",
    "# create a table for departures\n",
    "departures = trips[['starttime','bikeid','from_station_id','rank_offset']]\n",
    "departures.columns = ['departure_time','bikeid','departure_station_id','rank_offset']\n",
    "\n",
    "# delete trips to save memory\n",
    "del trips"
   ]
  },
  {
   "cell_type": "markdown",
   "metadata": {},
   "source": [
    "#### 03 - join arrivals and departures to get a table of occupancy"
   ]
  },
  {
   "cell_type": "code",
   "execution_count": 7,
   "metadata": {
    "collapsed": false
   },
   "outputs": [],
   "source": [
    "# inner join departures and arrivals on bikeid and the rank/rank_offset\n",
    "# this results in a table of occupancy rather than trip (arrival time and departure time at station)\n",
    "occupancy = pd.merge(arrivals, departures, how='inner', left_on=['bikeid','rank'], right_on=['bikeid','rank_offset'])\n",
    "\n",
    "# delete arrivals and departures to save memeory\n",
    "del arrivals, departures "
   ]
  },
  {
   "cell_type": "code",
   "execution_count": 11,
   "metadata": {
    "collapsed": false
   },
   "outputs": [
    {
     "data": {
      "text/html": [
       "<div>\n",
       "<table border=\"1\" class=\"dataframe\">\n",
       "  <thead>\n",
       "    <tr style=\"text-align: right;\">\n",
       "      <th></th>\n",
       "      <th>arrival_time</th>\n",
       "      <th>bikeid</th>\n",
       "      <th>arrival_station_id</th>\n",
       "      <th>departure_time</th>\n",
       "      <th>departure_station_id</th>\n",
       "    </tr>\n",
       "  </thead>\n",
       "  <tbody>\n",
       "    <tr>\n",
       "      <th>0</th>\n",
       "      <td>2013-06-27 12:16</td>\n",
       "      <td>480</td>\n",
       "      <td>28</td>\n",
       "      <td>2013-06-28 17:32</td>\n",
       "      <td>37</td>\n",
       "    </tr>\n",
       "    <tr>\n",
       "      <th>1</th>\n",
       "      <td>2013-06-27 14:45</td>\n",
       "      <td>77</td>\n",
       "      <td>32</td>\n",
       "      <td>2013-06-27 14:58</td>\n",
       "      <td>32</td>\n",
       "    </tr>\n",
       "    <tr>\n",
       "      <th>2</th>\n",
       "      <td>2013-06-27 15:05</td>\n",
       "      <td>77</td>\n",
       "      <td>19</td>\n",
       "      <td>2013-06-27 15:06</td>\n",
       "      <td>19</td>\n",
       "    </tr>\n",
       "  </tbody>\n",
       "</table>\n",
       "</div>"
      ],
      "text/plain": [
       "       arrival_time  bikeid  arrival_station_id    departure_time  \\\n",
       "0  2013-06-27 12:16     480                  28  2013-06-28 17:32   \n",
       "1  2013-06-27 14:45      77                  32  2013-06-27 14:58   \n",
       "2  2013-06-27 15:05      77                  19  2013-06-27 15:06   \n",
       "\n",
       "   departure_station_id  \n",
       "0                    37  \n",
       "1                    32  \n",
       "2                    19  "
      ]
     },
     "execution_count": 11,
     "metadata": {},
     "output_type": "execute_result"
    }
   ],
   "source": [
    "# show the new occupancy table\n",
    "occupancy.head(3)"
   ]
  },
  {
   "cell_type": "markdown",
   "metadata": {},
   "source": [
    "#### 04 - remove ranks"
   ]
  },
  {
   "cell_type": "code",
   "execution_count": null,
   "metadata": {
    "collapsed": false
   },
   "outputs": [],
   "source": [
    "# drop columns\n",
    "occupancy = occupancy.drop(['rank', 'rank_offset'], axis=1)"
   ]
  },
  {
   "cell_type": "markdown",
   "metadata": {},
   "source": [
    "### Prepare Dates and Duration"
   ]
  },
  {
   "cell_type": "code",
   "execution_count": 13,
   "metadata": {
    "collapsed": false
   },
   "outputs": [],
   "source": [
    "# convert strings into date times (minute) (multiple formats)\n",
    "arrival_time = [datetime.strptime(i, \"%Y-%m-%d %H:%M\") if '-' in i else datetime.strptime(i, \"%m/%d/%Y %H:%M\") for i in occupancy.arrival_time.tolist()]\n",
    "departure_time = [datetime.strptime(i, \"%Y-%m-%d %H:%M\") if '-' in i else datetime.strptime(i, \"%m/%d/%Y %H:%M\") for i in occupancy.departure_time.tolist()]"
   ]
  },
  {
   "cell_type": "code",
   "execution_count": 14,
   "metadata": {
    "collapsed": false
   },
   "outputs": [],
   "source": [
    "# convert list back to series\n",
    "occupancy['arrival_time'] = pd.Series(arrival_time)\n",
    "occupancy['departure_time'] = pd.Series(departure_time)"
   ]
  },
  {
   "cell_type": "code",
   "execution_count": 15,
   "metadata": {
    "collapsed": false
   },
   "outputs": [
    {
     "data": {
      "text/html": [
       "<div>\n",
       "<table border=\"1\" class=\"dataframe\">\n",
       "  <thead>\n",
       "    <tr style=\"text-align: right;\">\n",
       "      <th></th>\n",
       "      <th>arrival_time</th>\n",
       "      <th>bikeid</th>\n",
       "      <th>arrival_station_id</th>\n",
       "      <th>departure_time</th>\n",
       "      <th>departure_station_id</th>\n",
       "    </tr>\n",
       "  </thead>\n",
       "  <tbody>\n",
       "  </tbody>\n",
       "</table>\n",
       "</div>"
      ],
      "text/plain": [
       "Empty DataFrame\n",
       "Columns: [arrival_time, bikeid, arrival_station_id, departure_time, departure_station_id]\n",
       "Index: []"
      ]
     },
     "execution_count": 15,
     "metadata": {},
     "output_type": "execute_result"
    }
   ],
   "source": [
    "occupancy[occupancy.departure_time.dt.second > 0]"
   ]
  },
  {
   "cell_type": "code",
   "execution_count": 16,
   "metadata": {
    "collapsed": true
   },
   "outputs": [],
   "source": [
    "del arrival_time, departure_time"
   ]
  },
  {
   "cell_type": "code",
   "execution_count": 17,
   "metadata": {
    "collapsed": false
   },
   "outputs": [],
   "source": [
    "# create a field for duration\n",
    "occupancy['duration'] = (occupancy.departure_time - occupancy.arrival_time)\n",
    "occupancy['duration'] = (occupancy.duration / np.timedelta64(1, 'm')).astype(int)"
   ]
  },
  {
   "cell_type": "code",
   "execution_count": 18,
   "metadata": {
    "collapsed": false
   },
   "outputs": [],
   "source": [
    "# remove bad durations\n",
    "occupancy = occupancy[occupancy.duration > 0]"
   ]
  },
  {
   "cell_type": "markdown",
   "metadata": {},
   "source": [
    "### Account for interrupted occupancies"
   ]
  },
  {
   "cell_type": "code",
   "execution_count": 19,
   "metadata": {
    "collapsed": false
   },
   "outputs": [
    {
     "name": "stdout",
     "output_type": "stream",
     "text": [
      "14% of occpancies were interrupted\n"
     ]
    }
   ],
   "source": [
    "# if arrival station does not equal departure station then there was a 'system interruption'\n",
    "# what percent of stays bike occupancies were interrupted?\n",
    "percent = str((1 - sum(occupancy.arrival_station_id == occupancy.departure_station_id)/(len(occupancy)*1.0))*100) \n",
    "print percent[:2] + '% of occpancies were interrupted'"
   ]
  },
  {
   "cell_type": "code",
   "execution_count": 20,
   "metadata": {
    "collapsed": false
   },
   "outputs": [
    {
     "data": {
      "text/html": [
       "<div>\n",
       "<table border=\"1\" class=\"dataframe\">\n",
       "  <thead>\n",
       "    <tr style=\"text-align: right;\">\n",
       "      <th></th>\n",
       "      <th>arrival_time</th>\n",
       "      <th>bikeid</th>\n",
       "      <th>arrival_station_id</th>\n",
       "      <th>departure_time</th>\n",
       "      <th>departure_station_id</th>\n",
       "      <th>duration</th>\n",
       "    </tr>\n",
       "  </thead>\n",
       "  <tbody>\n",
       "    <tr>\n",
       "      <th>0</th>\n",
       "      <td>2013-06-27 12:16:00</td>\n",
       "      <td>480</td>\n",
       "      <td>28</td>\n",
       "      <td>2013-06-28 17:32:00</td>\n",
       "      <td>37</td>\n",
       "      <td>1756</td>\n",
       "    </tr>\n",
       "    <tr>\n",
       "      <th>4</th>\n",
       "      <td>2013-06-27 15:27:00</td>\n",
       "      <td>77</td>\n",
       "      <td>55</td>\n",
       "      <td>2013-06-29 17:39:00</td>\n",
       "      <td>27</td>\n",
       "      <td>3012</td>\n",
       "    </tr>\n",
       "  </tbody>\n",
       "</table>\n",
       "</div>"
      ],
      "text/plain": [
       "         arrival_time  bikeid  arrival_station_id      departure_time  \\\n",
       "0 2013-06-27 12:16:00     480                  28 2013-06-28 17:32:00   \n",
       "4 2013-06-27 15:27:00      77                  55 2013-06-29 17:39:00   \n",
       "\n",
       "   departure_station_id  duration  \n",
       "0                    37      1756  \n",
       "4                    27      3012  "
      ]
     },
     "execution_count": 20,
     "metadata": {},
     "output_type": "execute_result"
    }
   ],
   "source": [
    "# example of a occupancy that was interrupted - arrival is different then departure station\n",
    "occupancy[occupancy.arrival_station_id != occupancy.departure_station_id].head(2)"
   ]
  },
  {
   "cell_type": "code",
   "execution_count": 21,
   "metadata": {
    "collapsed": false
   },
   "outputs": [
    {
     "name": "stderr",
     "output_type": "stream",
     "text": [
      "/Users/bshonk/anaconda/lib/python2.7/site-packages/pandas/core/indexing.py:465: SettingWithCopyWarning: \n",
      "A value is trying to be set on a copy of a slice from a DataFrame.\n",
      "Try using .loc[row_indexer,col_indexer] = value instead\n",
      "\n",
      "See the caveats in the documentation: http://pandas.pydata.org/pandas-docs/stable/indexing.html#indexing-view-versus-copy\n",
      "  self.obj[item] = s\n"
     ]
    }
   ],
   "source": [
    "# create a df of the non interrupted occupancies\n",
    "occupancy_good = occupancy[occupancy.arrival_station_id == occupancy.departure_station_id]\n",
    "\n",
    "# split the interrupted occupancies into two dfs\n",
    "occupancy_bad_01 = occupancy[occupancy.arrival_station_id != occupancy.departure_station_id]\n",
    "occupancy_bad_01.loc[:,'duration'] = (occupancy_bad_01.duration / 2).astype(int)\n",
    "occupancy_bad_02 = occupancy_bad_01[occupancy_bad_01.columns]\n",
    "\n",
    "# create a new departure time for the arrival\n",
    "occupancy_bad_01.loc[:,'departure_time'] =  occupancy_bad_01.arrival_time + pd.to_timedelta(occupancy_bad_01.duration, unit='m')\n",
    "occupancy_bad_01.loc[:,'departure_station_id'] = occupancy_bad_01.arrival_station_id\n",
    "\n",
    "# create a new arrival time for the departure\n",
    "occupancy_bad_02.loc[:,'arrival_time'] = occupancy_bad_02.departure_time - pd.to_timedelta(occupancy_bad_02.duration, unit='m')\n",
    "occupancy_bad_02.loc[:,'arrival_station_id'] = occupancy_bad_01.departure_station_id\n",
    "\n",
    "# combine all three cleaned tables\n",
    "occupancy = pd.concat([occupancy_good, occupancy_bad_01, occupancy_bad_02], ignore_index=True)\n",
    "\n",
    "# delte the occupancy tables\n",
    "del occupancy_bad_01, occupancy_bad_02, occupancy_good"
   ]
  },
  {
   "cell_type": "code",
   "execution_count": 22,
   "metadata": {
    "collapsed": false
   },
   "outputs": [
    {
     "data": {
      "text/html": [
       "<div>\n",
       "<table border=\"1\" class=\"dataframe\">\n",
       "  <thead>\n",
       "    <tr style=\"text-align: right;\">\n",
       "      <th></th>\n",
       "      <th>station_id</th>\n",
       "      <th>duration</th>\n",
       "    </tr>\n",
       "    <tr>\n",
       "      <th>arrival_time</th>\n",
       "      <th></th>\n",
       "      <th></th>\n",
       "    </tr>\n",
       "  </thead>\n",
       "  <tbody>\n",
       "    <tr>\n",
       "      <th>2013-06-27 14:45:00</th>\n",
       "      <td>32</td>\n",
       "      <td>13</td>\n",
       "    </tr>\n",
       "    <tr>\n",
       "      <th>2013-06-27 15:05:00</th>\n",
       "      <td>19</td>\n",
       "      <td>1</td>\n",
       "    </tr>\n",
       "    <tr>\n",
       "      <th>2013-06-27 15:09:00</th>\n",
       "      <td>19</td>\n",
       "      <td>4</td>\n",
       "    </tr>\n",
       "    <tr>\n",
       "      <th>2013-06-27 19:03:00</th>\n",
       "      <td>76</td>\n",
       "      <td>652</td>\n",
       "    </tr>\n",
       "    <tr>\n",
       "      <th>2013-06-27 19:51:00</th>\n",
       "      <td>75</td>\n",
       "      <td>754</td>\n",
       "    </tr>\n",
       "  </tbody>\n",
       "</table>\n",
       "</div>"
      ],
      "text/plain": [
       "                     station_id  duration\n",
       "arrival_time                             \n",
       "2013-06-27 14:45:00          32        13\n",
       "2013-06-27 15:05:00          19         1\n",
       "2013-06-27 15:09:00          19         4\n",
       "2013-06-27 19:03:00          76       652\n",
       "2013-06-27 19:51:00          75       754"
      ]
     },
     "execution_count": 22,
     "metadata": {},
     "output_type": "execute_result"
    }
   ],
   "source": [
    "columns = ['arrival_time','arrival_station_id','duration']\n",
    "occupancy_final = occupancy[columns]\n",
    "occupancy_final.columns = ['arrival_time','station_id','duration']\n",
    "occupancy_final = occupancy_final.set_index('arrival_time')\n",
    "occupancy_final.head()"
   ]
  },
  {
   "cell_type": "markdown",
   "metadata": {},
   "source": [
    "### Export Clean Data"
   ]
  },
  {
   "cell_type": "code",
   "execution_count": 23,
   "metadata": {
    "collapsed": false
   },
   "outputs": [],
   "source": [
    "# export clean data to csv\n",
    "occupancy_final.to_csv('data_clean/occupancy.csv', index=True, header=True)"
   ]
  },
  {
   "cell_type": "code",
   "execution_count": 61,
   "metadata": {
    "collapsed": true
   },
   "outputs": [],
   "source": [
    "del occupancy"
   ]
  },
  {
   "cell_type": "code",
   "execution_count": null,
   "metadata": {
    "collapsed": true
   },
   "outputs": [],
   "source": []
  }
 ],
 "metadata": {
  "anaconda-cloud": {},
  "kernelspec": {
   "display_name": "Python [Root]",
   "language": "python",
   "name": "Python [Root]"
  },
  "language_info": {
   "codemirror_mode": {
    "name": "ipython",
    "version": 2
   },
   "file_extension": ".py",
   "mimetype": "text/x-python",
   "name": "python",
   "nbconvert_exporter": "python",
   "pygments_lexer": "ipython2",
   "version": "2.7.11"
  }
 },
 "nbformat": 4,
 "nbformat_minor": 0
}
