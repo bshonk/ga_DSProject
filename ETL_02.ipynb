{
 "cells": [
  {
   "cell_type": "markdown",
   "metadata": {
    "collapsed": true
   },
   "source": [
    "# ETL pipeline for sample bike data\n",
    " build dictionary of counts at anygiven time"
   ]
  },
  {
   "cell_type": "markdown",
   "metadata": {},
   "source": [
    "## Imports\n",
    "\n",
    "#testing:  138, 23, 236"
   ]
  },
  {
   "cell_type": "code",
   "execution_count": 105,
   "metadata": {
    "collapsed": false
   },
   "outputs": [],
   "source": [
    "import pandas as pd\n",
    "from datetime import datetime\n",
    "from datetime import timedelta\n",
    "import numpy as np\n",
    "\n",
    "startTime = datetime.now()"
   ]
  },
  {
   "cell_type": "markdown",
   "metadata": {},
   "source": [
    "### Connect to data"
   ]
  },
  {
   "cell_type": "code",
   "execution_count": 131,
   "metadata": {
    "collapsed": false
   },
   "outputs": [],
   "source": [
    "# connect to occupancy data\n",
    "occupancy = pd.read_csv('data_clean/occupancy.csv', header=0, index_col='arrival_time', parse_dates=True)"
   ]
  },
  {
   "cell_type": "code",
   "execution_count": 132,
   "metadata": {
    "collapsed": false
   },
   "outputs": [],
   "source": [
    "#occupancy.head()"
   ]
  },
  {
   "cell_type": "code",
   "execution_count": 111,
   "metadata": {
    "collapsed": false
   },
   "outputs": [],
   "source": [
    "# testing set\n",
    "station_id = 236\n",
    "occupancy = occupancy[occupancy.station_id == station_id]"
   ]
  },
  {
   "cell_type": "code",
   "execution_count": 112,
   "metadata": {
    "collapsed": false
   },
   "outputs": [],
   "source": [
    "#occupancy.head(2)"
   ]
  },
  {
   "cell_type": "markdown",
   "metadata": {},
   "source": [
    "> 01 build an empty dictionary of date times"
   ]
  },
  {
   "cell_type": "code",
   "execution_count": 113,
   "metadata": {
    "collapsed": false
   },
   "outputs": [],
   "source": [
    "# create a range of all possible timestamps\n",
    "min_dt = occupancy.index.min()\n",
    "max_dt = max(occupancy.index + pd.to_timedelta(occupancy.duration, unit='m'))\n",
    "dt_range = int((max_dt - min_dt).total_seconds() / 60) + 1\n",
    "\n",
    "# create a list of all possible timestamps\n",
    "dt_list = [min_dt + timedelta(minutes=i) for i in range(dt_range)]\n",
    "zeros = [0] * dt_range\n",
    "\n",
    "# turn that the list of all possible timestamps into an empty dictionary\n",
    "occupancy_counts = dict(zip(dt_list,zeros))\n",
    "\n",
    "# delete list of dates\n",
    "del dt_list, zeros"
   ]
  },
  {
   "cell_type": "markdown",
   "metadata": {},
   "source": [
    "> 02 populate the empty dictionary with bike counts"
   ]
  },
  {
   "cell_type": "code",
   "execution_count": 114,
   "metadata": {
    "collapsed": false
   },
   "outputs": [],
   "source": [
    "# dictionary of counts per minute at the given station\n",
    "for index, row in occupancy.iterrows():\n",
    "    for i in range(row['duration']):\n",
    "       master_time = index + timedelta(minutes=i)\n",
    "       occupancy_counts[master_time] += 1\n",
    "\n",
    "del occupancy"
   ]
  },
  {
   "cell_type": "markdown",
   "metadata": {},
   "source": [
    "### Aggregate data to 15/30 min periods"
   ]
  },
  {
   "cell_type": "code",
   "execution_count": 115,
   "metadata": {
    "collapsed": false
   },
   "outputs": [],
   "source": [
    "# convert dictionary to df\n",
    "occupancy_minute = pd.DataFrame(occupancy_counts.items(), columns=['date_time','count'])\n",
    "\n",
    "# delte dictionary\n",
    "del occupancy_counts"
   ]
  },
  {
   "cell_type": "code",
   "execution_count": 116,
   "metadata": {
    "collapsed": false
   },
   "outputs": [],
   "source": [
    "# set index\n",
    "occupancy_minute = occupancy_minute.set_index('date_time')"
   ]
  },
  {
   "cell_type": "code",
   "execution_count": 117,
   "metadata": {
    "collapsed": false
   },
   "outputs": [],
   "source": [
    "# import dockcount data\n",
    "dpcount = pd.read_csv('data_clean/all_stations.csv', header=0)\n",
    "dpcount = dpcount[dpcount.Id == station_id].reset_index(drop=True)\n",
    "#dpcount['Start'] = pd.Series([datetime.strptime(i, \"%m/%d/%y\") for i in dpcount.Start.tolist()])\n",
    "#dpcount['End'] = pd.Series([datetime.strptime(i, \"%m/%d/%y\") for i in dpcount.End.tolist()])"
   ]
  },
  {
   "cell_type": "code",
   "execution_count": 118,
   "metadata": {
    "collapsed": false
   },
   "outputs": [],
   "source": [
    "#test = dpcount.groupby(['Dpcapacity']).agg({'Start':'min', 'End':'max'})\n",
    "#occupancy_minute[occupancy_minute.index <= test.End.min()]\n"
   ]
  },
  {
   "cell_type": "code",
   "execution_count": 119,
   "metadata": {
    "collapsed": false
   },
   "outputs": [],
   "source": [
    "#docklist = []\n",
    "#for i in occupancy_minute.date_time.tolist():\n",
    "#    for j in dpcount.iterrows():\n",
    "#        if (i >= j[1][2] and i <= j[1][3]):\n",
    "#            docklist.append(j[1][1])"
   ]
  },
  {
   "cell_type": "code",
   "execution_count": 120,
   "metadata": {
    "collapsed": false
   },
   "outputs": [],
   "source": [
    "dock_count = dpcount.Dpcapacity.min()"
   ]
  },
  {
   "cell_type": "code",
   "execution_count": 121,
   "metadata": {
    "collapsed": false
   },
   "outputs": [],
   "source": [
    "# flag full and empty mintues\n",
    "occupancy_minute['empty'] = occupancy_minute['count'] == 0\n",
    "occupancy_minute['full'] = occupancy_minute['count'] >= dock_count"
   ]
  },
  {
   "cell_type": "code",
   "execution_count": 122,
   "metadata": {
    "collapsed": false
   },
   "outputs": [],
   "source": [
    "# round mintues to 30 min (round down ie 6:59 goes to 6:30)\n",
    "# group by 30 min periods\n",
    "occupancy_minute = occupancy_minute.resample('30T').agg({'count':['mean','min','max'], 'empty':'sum', 'full':'sum'})"
   ]
  },
  {
   "cell_type": "code",
   "execution_count": 125,
   "metadata": {
    "collapsed": false
   },
   "outputs": [],
   "source": [
    "# rename the columns\n",
    "occupancy_minute.columns = [' '.join(col).strip() for col in occupancy_minute.columns.values]"
   ]
  },
  {
   "cell_type": "code",
   "execution_count": 127,
   "metadata": {
    "collapsed": false
   },
   "outputs": [],
   "source": [
    "# rename columns\n",
    "columns = ['mean_count','min_count','max_count', 'minutes_full', 'minutes_empty']\n",
    "occupancy_minute.columns = columns"
   ]
  },
  {
   "cell_type": "code",
   "execution_count": 130,
   "metadata": {
    "collapsed": false
   },
   "outputs": [
    {
     "name": "stdout",
     "output_type": "stream",
     "text": [
      "0:06:39.322035\n"
     ]
    }
   ],
   "source": [
    "# write to csv\n",
    "output_file = str(station_id) + '.csv'\n",
    "occupancy_minute.to_csv('data_output/' + output_file)\n",
    "\n",
    "print datetime.now() - startTime"
   ]
  },
  {
   "cell_type": "markdown",
   "metadata": {},
   "source": []
  }
 ],
 "metadata": {
  "anaconda-cloud": {},
  "kernelspec": {
   "display_name": "Python [Root]",
   "language": "python",
   "name": "Python [Root]"
  },
  "language_info": {
   "codemirror_mode": {
    "name": "ipython",
    "version": 2
   },
   "file_extension": ".py",
   "mimetype": "text/x-python",
   "name": "python",
   "nbconvert_exporter": "python",
   "pygments_lexer": "ipython2",
   "version": "2.7.11"
  }
 },
 "nbformat": 4,
 "nbformat_minor": 0
}
