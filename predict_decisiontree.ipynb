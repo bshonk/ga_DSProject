{
 "cells": [
  {
   "cell_type": "markdown",
   "metadata": {},
   "source": [
    "- decesion tree with max depth of 3"
   ]
  },
  {
   "cell_type": "code",
   "execution_count": 1,
   "metadata": {
    "collapsed": false
   },
   "outputs": [],
   "source": [
    "import pandas as pd\n",
    "import os\n",
    "import random\n",
    "from datetime import timedelta\n",
    "from sklearn.tree import DecisionTreeClassifier\n",
    "from sklearn import metrics\n",
    "from sklearn.cross_validation import train_test_split\n",
    "import numpy as np"
   ]
  },
  {
   "cell_type": "code",
   "execution_count": 444,
   "metadata": {
    "collapsed": false
   },
   "outputs": [],
   "source": [
    "files = os.listdir('data_output/')\n",
    "files = [i for i in files if 'csv' in i]\n",
    "#random.sample(files,10)"
   ]
  },
  {
   "cell_type": "code",
   "execution_count": 445,
   "metadata": {
    "collapsed": true
   },
   "outputs": [],
   "source": [
    "# empty list for confusion scores\n",
    "output = []\n",
    "\n",
    "# set up the csv for actuals data\n",
    "header = pd.DataFrame(columns=['date_time','mean_count', 'y', 'y_pred', 'station_id', 'split'])\n",
    "header.to_csv('data_decisiontree/deciscion_tree_predictions.csv', mode='a', index=False, header=True)"
   ]
  },
  {
   "cell_type": "code",
   "execution_count": 446,
   "metadata": {
    "collapsed": false
   },
   "outputs": [],
   "source": [
    "# load the station to model\n",
    "station_id = files[1]\n",
    "url = 'data_output/'\n",
    "data = pd.read_csv(url+str(station_id), index_col='date_time', parse_dates=True)"
   ]
  },
  {
   "cell_type": "code",
   "execution_count": 447,
   "metadata": {
    "collapsed": false
   },
   "outputs": [],
   "source": [
    "# self join data set offset on hours\n",
    "time_offset = 4\n",
    "feature = pd.read_csv(url+str(station_id), index_col='date_time', parse_dates=True)\n",
    "feature.index = feature.index + timedelta(minutes=(time_offset*30))\n",
    "columns = [str(4*30)+'_'+ name for name in feature.columns]\n",
    "feature.columns = columns\n",
    "data_feature = pd.concat([data,feature], axis=1, join='inner')"
   ]
  },
  {
   "cell_type": "code",
   "execution_count": 448,
   "metadata": {
    "collapsed": false
   },
   "outputs": [],
   "source": [
    "# y class\n",
    "data_feature['minutes_empty'] = (data_feature.minutes_empty > 0).astype(int)\n",
    "\n",
    "# X and y\n",
    "feature_cols = [ i for i in data_feature.columns[2:] if 'full' not in i and 'empty' not in i and str(time_offset*30) in i]\n",
    "X = data_feature[feature_cols]\n",
    "y = data_feature[['minutes_empty']]"
   ]
  },
  {
   "cell_type": "code",
   "execution_count": 449,
   "metadata": {
    "collapsed": false
   },
   "outputs": [
    {
     "name": "stdout",
     "output_type": "stream",
     "text": [
      "101.csvmodel\n"
     ]
    }
   ],
   "source": [
    "# only run the model if it meets a .5% threshold of events\n",
    "if (y.minutes_empty > 0).sum() / (len(y) * 1.0) < .01:\n",
    "    print 'nothing'\n",
    "else:\n",
    "    print station_id + 'model'"
   ]
  },
  {
   "cell_type": "code",
   "execution_count": 450,
   "metadata": {
    "collapsed": false
   },
   "outputs": [],
   "source": [
    "# train test split (75% train, 25% test)\n",
    "X_train, X_test, y_train, y_test = train_test_split(X, y, random_state=1)\n",
    "\n",
    "# I wante to do this as a time series, but the ends of the data sets are genrally skewed\n",
    "\n",
    "#X_train = X.head(int(len(X) * .5))\n",
    "#y_train = y.head(int(len(X) * .5))\n",
    "#X_test = X.tail(len(X) - int(len(X) * .5))\n",
    "#y_test = y.tail(len(X) - int(len(X) * .5))"
   ]
  },
  {
   "cell_type": "code",
   "execution_count": 451,
   "metadata": {
    "collapsed": false
   },
   "outputs": [
    {
     "data": {
      "text/plain": [
       "DecisionTreeClassifier(class_weight=None, criterion='gini', max_depth=3,\n",
       "            max_features=None, max_leaf_nodes=None, min_samples_leaf=1,\n",
       "            min_samples_split=2, min_weight_fraction_leaf=0.0,\n",
       "            presort=False, random_state=1, splitter='best')"
      ]
     },
     "execution_count": 451,
     "metadata": {},
     "output_type": "execute_result"
    }
   ],
   "source": [
    "# tree classification fit\n",
    "treeclf = DecisionTreeClassifier(max_depth = 3, random_state=1)\n",
    "treeclf.fit(X_train, y_train)"
   ]
  },
  {
   "cell_type": "code",
   "execution_count": 439,
   "metadata": {
    "collapsed": false
   },
   "outputs": [],
   "source": [
    "# predictions\n",
    "y_pred = treeclf.predict(X_test)\n",
    "confusion = metrics.confusion_matrix(y_test, y_pred)\n",
    "\n",
    "# columns = ['TN','FN', 'FP', 'TP']\n",
    "confusion = confusion[0].tolist() + confusion[1].tolist()\n",
    "\n",
    "# add rows to final\n",
    "row = [int(station_id[:station_id.find('.csv')])] + confusion\n",
    "output.append(row)"
   ]
  },
  {
   "cell_type": "code",
   "execution_count": 456,
   "metadata": {
    "collapsed": false
   },
   "outputs": [
    {
     "data": {
      "text/plain": [
       "[5159, 1, 1, 61]"
      ]
     },
     "execution_count": 456,
     "metadata": {},
     "output_type": "execute_result"
    }
   ],
   "source": [
    "y_pred = treeclf.predict(X_test)\n",
    "confusion = metrics.confusion_matrix(y_test, y_pred)\n",
    "confusion[0].tolist() + confusion[1].tolist()"
   ]
  },
  {
   "cell_type": "code",
   "execution_count": 440,
   "metadata": {
    "collapsed": false
   },
   "outputs": [
    {
     "name": "stderr",
     "output_type": "stream",
     "text": [
      "/Users/bshonk/anaconda/lib/python2.7/site-packages/ipykernel/__main__.py:12: SettingWithCopyWarning: \n",
      "A value is trying to be set on a copy of a slice from a DataFrame.\n",
      "Try using .loc[row_indexer,col_indexer] = value instead\n",
      "\n",
      "See the caveats in the documentation: http://pandas.pydata.org/pandas-docs/stable/indexing.html#indexing-view-versus-copy\n",
      "/Users/bshonk/anaconda/lib/python2.7/site-packages/ipykernel/__main__.py:13: SettingWithCopyWarning: \n",
      "A value is trying to be set on a copy of a slice from a DataFrame.\n",
      "Try using .loc[row_indexer,col_indexer] = value instead\n",
      "\n",
      "See the caveats in the documentation: http://pandas.pydata.org/pandas-docs/stable/indexing.html#indexing-view-versus-copy\n"
     ]
    }
   ],
   "source": [
    "# y actual, y predicted, mean count actuals\n",
    "y_pred_all = treeclf.predict(X)\n",
    "y_pred_df = pd.DataFrame(y_pred_all, index=y.index, columns=['y_pred'])\n",
    "y.columns = ['y']\n",
    "mean_count = data[['mean_count']]\n",
    "\n",
    "# output df\n",
    "output_actuals = pd.concat([mean_count, y, y_pred_df], axis=1)\n",
    "output_actuals['station_id'] = int(station_id[:station_id.find('.csv')])\n",
    "\n",
    "# label as train or test\n",
    "y_train['split'] = 'train'\n",
    "y_test['split'] = 'test'\n",
    "test_train = pd.concat([y_train, y_test], axis=0).sort_index()\n",
    "output_actuals = pd.concat( [output_actuals, test_train[['split']]], axis=1 )\n",
    "\n",
    "output_actuals.to_csv('data_decisiontree/deciscion_tree_predictions.csv',index=True, mode='a', header=False)"
   ]
  },
  {
   "cell_type": "code",
   "execution_count": 367,
   "metadata": {
    "collapsed": false
   },
   "outputs": [],
   "source": [
    "# convert to DF and output to csv\n",
    "output = pd.DataFrame(output, columns=['station_id', 'TN','FN', 'FP', 'TP'])\n",
    "output.to_csv('data_decisiontree/deciscion_tree.csv',index=False)"
   ]
  },
  {
   "cell_type": "code",
   "execution_count": null,
   "metadata": {
    "collapsed": true
   },
   "outputs": [],
   "source": []
  },
  {
   "cell_type": "code",
   "execution_count": 425,
   "metadata": {
    "collapsed": false
   },
   "outputs": [],
   "source": []
  },
  {
   "cell_type": "code",
   "execution_count": null,
   "metadata": {
    "collapsed": false
   },
   "outputs": [],
   "source": []
  },
  {
   "cell_type": "code",
   "execution_count": null,
   "metadata": {
    "collapsed": false
   },
   "outputs": [],
   "source": []
  },
  {
   "cell_type": "code",
   "execution_count": null,
   "metadata": {
    "collapsed": false
   },
   "outputs": [],
   "source": []
  },
  {
   "cell_type": "code",
   "execution_count": null,
   "metadata": {
    "collapsed": true
   },
   "outputs": [],
   "source": []
  }
 ],
 "metadata": {
  "anaconda-cloud": {},
  "kernelspec": {
   "display_name": "Python [Root]",
   "language": "python",
   "name": "Python [Root]"
  },
  "language_info": {
   "codemirror_mode": {
    "name": "ipython",
    "version": 2
   },
   "file_extension": ".py",
   "mimetype": "text/x-python",
   "name": "python",
   "nbconvert_exporter": "python",
   "pygments_lexer": "ipython2",
   "version": "2.7.11"
  }
 },
 "nbformat": 4,
 "nbformat_minor": 0
}
