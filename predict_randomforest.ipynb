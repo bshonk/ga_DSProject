{
 "cells": [
  {
   "cell_type": "code",
   "execution_count": 31,
   "metadata": {
    "collapsed": true
   },
   "outputs": [],
   "source": [
    "import pandas as pd\n",
    "import os\n",
    "from datetime import timedelta\n",
    "import numpy as np\n",
    "from sklearn import metrics\n",
    "from sklearn.cross_validation import cross_val_score\n",
    "from sklearn.ensemble import RandomForestClassifier\n",
    "import matplotlib.pyplot as plt\n",
    "from sklearn.cross_validation import train_test_split\n",
    "import random\n",
    "%matplotlib inline"
   ]
  },
  {
   "cell_type": "code",
   "execution_count": 32,
   "metadata": {
    "collapsed": false
   },
   "outputs": [
    {
     "data": {
      "text/plain": [
       "['378.csv',\n",
       " '190.csv',\n",
       " '425.csv',\n",
       " '399.csv',\n",
       " '276.csv',\n",
       " '250.csv',\n",
       " '244.csv',\n",
       " '163.csv',\n",
       " '372.csv',\n",
       " '143.csv']"
      ]
     },
     "execution_count": 32,
     "metadata": {},
     "output_type": "execute_result"
    }
   ],
   "source": [
    "files = os.listdir('data_output/')\n",
    "files = [i for i in files if 'csv' in i]\n",
    "random.sample(files,10)"
   ]
  },
  {
   "cell_type": "code",
   "execution_count": 7,
   "metadata": {
    "collapsed": true
   },
   "outputs": [],
   "source": [
    "# load the station to model\n",
    "station_pred = 472\n",
    "url = 'data_output/'\n",
    "data = pd.read_csv(url+str(station_pred)+'.csv', index_col='date_time', parse_dates=True)"
   ]
  },
  {
   "cell_type": "code",
   "execution_count": 4,
   "metadata": {
    "collapsed": false
   },
   "outputs": [],
   "source": [
    "# self join data set offset on hours\n",
    "for i in range(4,8):\n",
    "    feature = pd.read_csv(url+str(station_pred)+'.csv', index_col='date_time', parse_dates=True)\n",
    "    feature.index = feature.index - timedelta(minutes=(i*30))\n",
    "    columns = [str(i*30)+'_'+ name for name in feature.columns]\n",
    "    feature.columns = columns\n",
    "    data = pd.concat([data,feature], axis=1, join='inner')\n",
    "\n",
    "data=data[data.columns[3:]]"
   ]
  },
  {
   "cell_type": "code",
   "execution_count": 26,
   "metadata": {
    "collapsed": false
   },
   "outputs": [],
   "source": [
    "if (data.minutes_empty > 0).sum() / (len(data) * 1.0) > .005:\n",
    "    'nothing'\n",
    "else:\n",
    "    print 'script'"
   ]
  },
  {
   "cell_type": "code",
   "execution_count": 11,
   "metadata": {
    "collapsed": false
   },
   "outputs": [],
   "source": [
    "# dummy weekdays\n",
    "weekday = data.index.weekday\n",
    "weekday = pd.DataFrame(weekday, index=data.index, columns=['weekday'])\n",
    "dummies = pd.get_dummies(weekday.weekday, prefix='weekday')\n",
    "dummies = dummies[dummies.columns[1:]]\n",
    "data = pd.concat([data, dummies], axis=1)"
   ]
  },
  {
   "cell_type": "code",
   "execution_count": 115,
   "metadata": {
    "collapsed": false
   },
   "outputs": [],
   "source": [
    "# create the binary fields for y\n",
    "data['minutes_full'] = (data.minutes_full > 0).astype(int)\n",
    "data['minutes_empty'] = (data.minutes_empty > 0).astype(int)\n",
    "\n",
    "# create features\n",
    "feature_cols = [ i for i in data.columns[2:] if 'full' not in i and 'empty' not in i]\n",
    "X = data[feature_cols]\n",
    "y = data.minutes_empty"
   ]
  },
  {
   "cell_type": "markdown",
   "metadata": {},
   "source": [
    "### Train n_estimators and max_features"
   ]
  },
  {
   "cell_type": "code",
   "execution_count": 11,
   "metadata": {
    "collapsed": false
   },
   "outputs": [],
   "source": [
    "\n",
    "scores = []\n",
    "for i in range(10, 310, 10):\n",
    "    rfclass = RandomForestClassifier(n_estimators=i, random_state=1)\n",
    "    cross_val = cross_val_score(rfclass, X, y, cv=10, scoring='roc_auc').mean()\n",
    "    scores.append(cross_val)"
   ]
  },
  {
   "cell_type": "code",
   "execution_count": 15,
   "metadata": {
    "collapsed": false
   },
   "outputs": [
    {
     "data": {
      "text/plain": [
       "<matplotlib.text.Text at 0x1146dad90>"
      ]
     },
     "execution_count": 15,
     "metadata": {},
     "output_type": "execute_result"
    },
    {
     "data": {
      "image/png": "[encoded data removed]",
      "text/plain": [
       "<matplotlib.figure.Figure at 0x114502e10>"
      ]
     },
     "metadata": {},
     "output_type": "display_data"
    }
   ],
   "source": [
    "plt.plot(range(10, 310, 10), scores)\n",
    "plt.xlabel('n_estimators')"
   ]
  },
  {
   "cell_type": "code",
   "execution_count": 86,
   "metadata": {
    "collapsed": false
   },
   "outputs": [],
   "source": [
    "number_features = len(X.columns.values)+1\n",
    "scores = []\n",
    "for i in range(1, number_features):\n",
    "    rfclass = RandomForestClassifier(n_estimators=150, max_features=i, random_state=1)\n",
    "    cross_val = cross_val_score(rfclass, X, y, cv=10, scoring='roc_auc').mean()\n",
    "    scores.append(cross_val)"
   ]
  },
  {
   "cell_type": "code",
   "execution_count": null,
   "metadata": {
    "collapsed": false
   },
   "outputs": [],
   "source": []
  },
  {
   "cell_type": "code",
   "execution_count": 87,
   "metadata": {
    "collapsed": false
   },
   "outputs": [
    {
     "data": {
      "text/plain": [
       "<matplotlib.text.Text at 0x115969a10>"
      ]
     },
     "execution_count": 87,
     "metadata": {},
     "output_type": "execute_result"
    },
    {
     "data": {
      "image/png": "[encoded data removed]",
      "text/plain": [
       "<matplotlib.figure.Figure at 0x115968950>"
      ]
     },
     "metadata": {},
     "output_type": "display_data"
    }
   ],
   "source": [
    "plt.plot(range(1, number_features), scores)\n",
    "plt.xlabel('max_features')"
   ]
  },
  {
   "cell_type": "markdown",
   "metadata": {},
   "source": [
    "### Model"
   ]
  },
  {
   "cell_type": "code",
   "execution_count": 118,
   "metadata": {
    "collapsed": true
   },
   "outputs": [],
   "source": [
    "# train test split\n",
    "X_train, X_test, y_train, y_test = train_test_split(X, y, random_state=1)"
   ]
  },
  {
   "cell_type": "code",
   "execution_count": 121,
   "metadata": {
    "collapsed": false
   },
   "outputs": [
    {
     "data": {
      "text/plain": [
       "18"
      ]
     },
     "execution_count": 121,
     "metadata": {},
     "output_type": "execute_result"
    }
   ],
   "source": [
    "len(feature_cols)"
   ]
  },
  {
   "cell_type": "code",
   "execution_count": 122,
   "metadata": {
    "collapsed": false
   },
   "outputs": [
    {
     "data": {
      "text/plain": [
       "0.95285869578194993"
      ]
     },
     "execution_count": 122,
     "metadata": {},
     "output_type": "execute_result"
    }
   ],
   "source": [
    "# model cross val\n",
    "rfclass = RandomForestClassifier(n_estimators=150, max_features=18, random_state=1)\n",
    "cross_val = cross_val_score(rfclass, X, y, cv=10, scoring='roc_auc').mean()\n",
    "cross_val"
   ]
  },
  {
   "cell_type": "code",
   "execution_count": 123,
   "metadata": {
    "collapsed": false
   },
   "outputs": [],
   "source": [
    "# model test train split\n",
    "rfclass.fit(X_train, y_train)\n",
    "y_pred = rfclass.predict(X_test)\n",
    "confusion = metrics.confusion_matrix(y_test, y_pred)\n",
    "TP = confusion[1,1] / ((confusion[1,0]+confusion[1,1])+1.0)"
   ]
  },
  {
   "cell_type": "code",
   "execution_count": 124,
   "metadata": {
    "collapsed": false
   },
   "outputs": [
    {
     "data": {
      "text/plain": [
       "0.67673716012084595"
      ]
     },
     "execution_count": 124,
     "metadata": {},
     "output_type": "execute_result"
    }
   ],
   "source": [
    "TP"
   ]
  },
  {
   "cell_type": "code",
   "execution_count": 125,
   "metadata": {
    "collapsed": false
   },
   "outputs": [
    {
     "data": {
      "text/plain": [
       "array([[4640,   83],\n",
       "       [ 106,  224]])"
      ]
     },
     "execution_count": 125,
     "metadata": {},
     "output_type": "execute_result"
    }
   ],
   "source": [
    "confusion"
   ]
  },
  {
   "cell_type": "code",
   "execution_count": 126,
   "metadata": {
    "collapsed": false
   },
   "outputs": [
    {
     "data": {
      "text/html": [
       "<div>\n",
       "<table border=\"1\" class=\"dataframe\">\n",
       "  <thead>\n",
       "    <tr style=\"text-align: right;\">\n",
       "      <th></th>\n",
       "      <th>feature</th>\n",
       "      <th>importance</th>\n",
       "    </tr>\n",
       "  </thead>\n",
       "  <tbody>\n",
       "    <tr>\n",
       "      <th>1</th>\n",
       "      <td>120_min_count</td>\n",
       "      <td>0.396375</td>\n",
       "    </tr>\n",
       "    <tr>\n",
       "      <th>0</th>\n",
       "      <td>120_mean_count</td>\n",
       "      <td>0.320422</td>\n",
       "    </tr>\n",
       "    <tr>\n",
       "      <th>9</th>\n",
       "      <td>210_mean_count</td>\n",
       "      <td>0.050717</td>\n",
       "    </tr>\n",
       "    <tr>\n",
       "      <th>3</th>\n",
       "      <td>150_mean_count</td>\n",
       "      <td>0.050456</td>\n",
       "    </tr>\n",
       "    <tr>\n",
       "      <th>2</th>\n",
       "      <td>120_max_count</td>\n",
       "      <td>0.050240</td>\n",
       "    </tr>\n",
       "    <tr>\n",
       "      <th>6</th>\n",
       "      <td>180_mean_count</td>\n",
       "      <td>0.040576</td>\n",
       "    </tr>\n",
       "    <tr>\n",
       "      <th>14</th>\n",
       "      <td>weekday_3</td>\n",
       "      <td>0.011118</td>\n",
       "    </tr>\n",
       "    <tr>\n",
       "      <th>12</th>\n",
       "      <td>weekday_1</td>\n",
       "      <td>0.010494</td>\n",
       "    </tr>\n",
       "    <tr>\n",
       "      <th>13</th>\n",
       "      <td>weekday_2</td>\n",
       "      <td>0.010326</td>\n",
       "    </tr>\n",
       "    <tr>\n",
       "      <th>11</th>\n",
       "      <td>210_max_count</td>\n",
       "      <td>0.010206</td>\n",
       "    </tr>\n",
       "  </tbody>\n",
       "</table>\n",
       "</div>"
      ],
      "text/plain": [
       "           feature  importance\n",
       "1    120_min_count    0.396375\n",
       "0   120_mean_count    0.320422\n",
       "9   210_mean_count    0.050717\n",
       "3   150_mean_count    0.050456\n",
       "2    120_max_count    0.050240\n",
       "6   180_mean_count    0.040576\n",
       "14       weekday_3    0.011118\n",
       "12       weekday_1    0.010494\n",
       "13       weekday_2    0.010326\n",
       "11   210_max_count    0.010206"
      ]
     },
     "execution_count": 126,
     "metadata": {},
     "output_type": "execute_result"
    }
   ],
   "source": [
    "feature_importance = pd.DataFrame({'feature':feature_cols, 'importance':rfclass.feature_importances_})\n",
    "feature_importance.sort_values(by='importance',ascending=False ).head(10)"
   ]
  },
  {
   "cell_type": "code",
   "execution_count": null,
   "metadata": {
    "collapsed": true
   },
   "outputs": [],
   "source": []
  }
 ],
 "metadata": {
  "anaconda-cloud": {},
  "kernelspec": {
   "display_name": "Python [Root]",
   "language": "python",
   "name": "Python [Root]"
  },
  "language_info": {
   "codemirror_mode": {
    "name": "ipython",
    "version": 2
   },
   "file_extension": ".py",
   "mimetype": "text/x-python",
   "name": "python",
   "nbconvert_exporter": "python",
   "pygments_lexer": "ipython2",
   "version": "2.7.11"
  }
 },
 "nbformat": 4,
 "nbformat_minor": 0
}
